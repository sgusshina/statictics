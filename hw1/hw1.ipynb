{
 "cells": [
  {
   "cell_type": "code",
   "execution_count": 23,
   "metadata": {},
   "outputs": [],
   "source": [
    "import pandas as pd"
   ]
  },
  {
   "cell_type": "code",
   "execution_count": 37,
   "metadata": {},
   "outputs": [
    {
     "name": "stdout",
     "output_type": "stream",
     "text": [
      "5 544 73.1 77.5 95\n"
     ]
    }
   ],
   "source": [
    "\n",
    "\n",
    "\n",
    "grades = [87, 80, 99, 90, 74, 100, 95, 90, 56, 95,\n",
    "          75, 5, 85, 78, 30, 77, 70, 59, 88, 100,\n",
    "          50, 69, 97, 96, 82, 21, 46, 93, 72, 95, \n",
    "          60, 91, 52, 27, 63, 66, 85, 59, 91, 76]\n",
    "\n",
    "\n",
    "sr = pd.Series(grades)\n",
    "\n",
    "sr.head()\n",
    "min_ = sr.min()\n",
    "\n",
    "max_ = sr.max()\n",
    "range_ = max_ - min_\n",
    "disp = int(sr.var())\n",
    "mean = sr.mean()\n",
    "median = sr.median()\n",
    "mode = int(sr.mode()[0])\n",
    "print(min_, disp,mean,median,mode)\n"
   ]
  },
  {
   "cell_type": "code",
   "execution_count": 51,
   "metadata": {},
   "outputs": [
    {
     "name": "stdout",
     "output_type": "stream",
     "text": [
      "136.5 206.5 [250, 67]\n"
     ]
    }
   ],
   "source": [
    "height = [154, 185, 170, 184, 175, 180, 187, 164, 178, 185, \n",
    "          157, 179, 183, 159, 178, 189, 172, 167, 163, 166,\n",
    "          156, 165, 181, 164, 171, 185, 171, 168, 161, 184,\n",
    "          178, 161, 184, 150, 168, 187, 175, 175, 174, 154,\n",
    "          180, 164, 163, 163, 165, 185, 161, 166, 163, 171,\n",
    "          163, 184, 160, 161, 155, 185, 152, 169, 178, 154,\n",
    "          188, 158, 177, 250, 190, 189, 163, 168, 158, 182,\n",
    "          165, 67, 166, 167, 188, 185, 182, 172, 162, 156,\n",
    "          175, 184, 171, 174, 153, 154, 151, 176, 179, 161,\n",
    "          175, 154, 167, 180, 186, 174, 188, 176, 160, 179]\n",
    "\n",
    "\n",
    "h = pd.Series(height)\n",
    "\n",
    "h.head()\n",
    "mean = h.mean()\n",
    "median = h.median()\n",
    "mode = h.mode()[0]\n",
    "iqr = h.quantile(0.75) - h.quantile(0.25)\n",
    "lower_bound = h.quantile(0.25)- 1.5*iqr\n",
    "upper_bound = h.quantile(0.75) + 1.5*iqr\n",
    "outliers = []\n",
    "for el in h:\n",
    "    if el < lower_bound or el > upper_bound:\n",
    "        outliers.append(el)\n",
    "\n",
    "\n",
    "print(lower_bound,upper_bound,outliers)"
   ]
  },
  {
   "cell_type": "markdown",
   "metadata": {},
   "source": [
    "Условие задачи\n",
    "Требуется смоделировать игру против лотерейного автомата типа “777”.\n",
    "Игрок платит 1 руб., после чего выпадает случайное целое число,\n",
    "равномерно распределённое от 0 до 999 (np.random.randint).\n",
    "При некоторых значениях числа игрок получает выигрыш:\n",
    "777: 200 руб.\n",
    "999: 100 руб.\n",
    "555: 50 руб.\n",
    "333: 15 руб.\n",
    "111: 10 руб.\n",
    "x77: 5 руб.\n",
    "xx7: 3 руб.\n",
    "x00: 2 руб.\n",
    "xx0: 1 руб.\n",
    "где x – любая цифра.\n",
    "Задание: рассчитайте математическое ожидание суммы выигрыша.\n",
    "Результат круглите до пяти знаков после запятой."
   ]
  },
  {
   "cell_type": "code",
   "execution_count": 58,
   "metadata": {},
   "outputs": [
    {
     "name": "stdout",
     "output_type": "stream",
     "text": [
      "2.51839\n"
     ]
    }
   ],
   "source": [
    "import numpy as np\n",
    "\n",
    "# trials - список из 1 млн. целых чисел от 0 до 999\n",
    "# генерируется отдельно в тестовом файле\n",
    "\n",
    "def monte_carlo(trials):\n",
    "    # словарь, содержащий выигрышные комбинации и сумму выигрыша\n",
    "    # случаи с * следует обработать в цикле с помощью\n",
    "    # операции взятия остатка от деления (%)\n",
    "    score = {\n",
    "        999: 100,\n",
    "        777: 200,\n",
    "        555: 50,\n",
    "        333: 15,\n",
    "        111: 10\n",
    "    }\n",
    "    # сумма выигрыша      \n",
    "    balance = 0\n",
    "\n",
    "    for i in trials:\n",
    "        for el in score:\n",
    "            if i == el: balance += score[el]\n",
    "            elif i - int(i/100)*100 == 77 : balance += 5\n",
    "            elif i - int(i/10)*10 == 7 : balance += 3\n",
    "            elif i % 100 == 0 : balance += 2\n",
    "            elif i % 10 == 0 : balance += 1\n",
    "\n",
    "    res = round((balance/ 10000000),5)\n",
    "    return res\n",
    "\n",
    "if __name__ == '__main__':\n",
    "    np.random.seed(42)\n",
    "    trials = np.random.randint(0, 1000, 10000000)\n",
    "    print(monte_carlo(trials))"
   ]
  }
 ],
 "metadata": {
  "kernelspec": {
   "display_name": "base",
   "language": "python",
   "name": "python3"
  },
  "language_info": {
   "codemirror_mode": {
    "name": "ipython",
    "version": 3
   },
   "file_extension": ".py",
   "mimetype": "text/x-python",
   "name": "python",
   "nbconvert_exporter": "python",
   "pygments_lexer": "ipython3",
   "version": "3.12.7"
  }
 },
 "nbformat": 4,
 "nbformat_minor": 2
}
